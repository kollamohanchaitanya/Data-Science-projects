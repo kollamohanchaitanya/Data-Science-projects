{
  "nbformat": 4,
  "nbformat_minor": 0,
  "metadata": {
    "colab": {
      "provenance": [],
      "authorship_tag": "ABX9TyPvctlhVwKPlSR7LqLtZqab",
      "include_colab_link": true
    },
    "kernelspec": {
      "name": "python3",
      "display_name": "Python 3"
    },
    "language_info": {
      "name": "python"
    }
  },
  "cells": [
    {
      "cell_type": "markdown",
      "metadata": {
        "id": "view-in-github",
        "colab_type": "text"
      },
      "source": [
        "<a href=\"https://colab.research.google.com/github/kollamohanchaitanya/Data-Science-projects/blob/main/DECISION_TREE_CLASSIFICATION.ipynb\" target=\"_parent\"><img src=\"https://colab.research.google.com/assets/colab-badge.svg\" alt=\"Open In Colab\"/></a>"
      ]
    },
    {
      "cell_type": "code",
      "execution_count": null,
      "metadata": {
        "id": "heHp8SC_R-VK"
      },
      "outputs": [],
      "source": [
        "!pip install --upgrade tensorflow\n"
      ]
    },
    {
      "cell_type": "code",
      "source": [
        "from __future__ import print_function\n",
        "import pandas as pd\n",
        "pd.__version__"
      ],
      "metadata": {
        "id": "KsEil4eySLRR",
        "colab": {
          "base_uri": "https://localhost:8080/",
          "height": 35
        },
        "outputId": "5405dbea-04fe-4232-f453-e2ad7872b9d4"
      },
      "execution_count": null,
      "outputs": [
        {
          "output_type": "execute_result",
          "data": {
            "text/plain": [
              "'1.3.5'"
            ],
            "application/vnd.google.colaboratory.intrinsic+json": {
              "type": "string"
            }
          },
          "metadata": {},
          "execution_count": 3
        }
      ]
    },
    {
      "cell_type": "code",
      "source": [
        "import os\n",
        "os.getcwd()"
      ],
      "metadata": {
        "id": "2vBI3gK-S6EI",
        "colab": {
          "base_uri": "https://localhost:8080/",
          "height": 35
        },
        "outputId": "cd85b404-646d-4271-c6bc-2d7b1ce57cb3"
      },
      "execution_count": null,
      "outputs": [
        {
          "output_type": "execute_result",
          "data": {
            "text/plain": [
              "'/content'"
            ],
            "application/vnd.google.colaboratory.intrinsic+json": {
              "type": "string"
            }
          },
          "metadata": {},
          "execution_count": 4
        }
      ]
    },
    {
      "cell_type": "code",
      "source": [
        "#importing colab and mounting drive\n",
        "from google.colab import drive\n",
        "drive.mount('/content/gdrive')"
      ],
      "metadata": {
        "id": "YGQoqfYWTQCg",
        "colab": {
          "base_uri": "https://localhost:8080/"
        },
        "outputId": "d850839b-3b46-4742-a7df-2481be2c09dc"
      },
      "execution_count": null,
      "outputs": [
        {
          "output_type": "stream",
          "name": "stdout",
          "text": [
            "Mounted at /content/gdrive\n"
          ]
        }
      ]
    },
    {
      "cell_type": "code",
      "source": [
        "spam_dataset_dataframe = pd.read_csv(\"/content/gdrive/My Drive/spam.csv\", sep = ',')\n",
        "spam_dataset_dataframe.describe()\n",
        "\n"
      ],
      "metadata": {
        "id": "TvmcifdMTji3"
      },
      "execution_count": null,
      "outputs": []
    },
    {
      "cell_type": "code",
      "source": [
        "spam_dataset_dataframe.head()\n"
      ],
      "metadata": {
        "id": "8kUOhg3VhPgo"
      },
      "execution_count": null,
      "outputs": []
    },
    {
      "cell_type": "code",
      "source": [
        "spam_dataset_dataframe.info()"
      ],
      "metadata": {
        "id": "QjPUX2WZhbEh"
      },
      "execution_count": null,
      "outputs": []
    },
    {
      "cell_type": "code",
      "source": [
        "#checking for duplicates and removing them\n",
        "spam_dataset_dataframe.drop_duplicates(inplace = True)\n"
      ],
      "metadata": {
        "id": "2KfnOjhPdKsj"
      },
      "execution_count": null,
      "outputs": []
    },
    {
      "cell_type": "code",
      "source": [
        "print(spam_dataset_dataframe.shape)"
      ],
      "metadata": {
        "colab": {
          "base_uri": "https://localhost:8080/"
        },
        "id": "QCmF2M0ePugx",
        "outputId": "89762d76-8a82-4d40-f936-1c9ef117680e"
      },
      "execution_count": null,
      "outputs": [
        {
          "output_type": "stream",
          "name": "stdout",
          "text": [
            "(4210, 58)\n"
          ]
        }
      ]
    },
    {
      "cell_type": "code",
      "source": [
        "print(spam_dataset_dataframe.isnull().sum())"
      ],
      "metadata": {
        "id": "Z5Sk8G2HPxLk"
      },
      "execution_count": null,
      "outputs": []
    },
    {
      "cell_type": "code",
      "source": [
        "import numpy as np"
      ],
      "metadata": {
        "id": "7FTzTqdlW4kE"
      },
      "execution_count": null,
      "outputs": []
    },
    {
      "cell_type": "code",
      "source": [
        "def split_train_test(data,test_ratio):\n",
        "  np.random.seed(42) # fix the seed if you want to generate the same\n",
        "  shuffled_indices = np.random.permutation(len(data))\n",
        "  test_set_size = int(len(data)*test_ratio)\n",
        "  test_indices = shuffled_indices[:test_set_size]\n",
        "  train_indices = shuffled_indices[test_set_size:]\n",
        "  return data.iloc[train_indices], data.iloc[test_indices]"
      ],
      "metadata": {
        "id": "e7pzGB6PW5r0"
      },
      "execution_count": null,
      "outputs": []
    },
    {
      "cell_type": "code",
      "source": [
        "from sklearn.model_selection import train_test_split"
      ],
      "metadata": {
        "id": "LbJW73JwXF6p"
      },
      "execution_count": null,
      "outputs": []
    },
    {
      "cell_type": "code",
      "source": [
        "spam_training_set, spam_test_set = train_test_split(spam_dataset_dataframe, test_size=0.25,random_state=1000)\n",
        "spam_dataset_dataframe.keys()\n",
        "\n"
      ],
      "metadata": {
        "id": "j7yVRualXJ_K"
      },
      "execution_count": null,
      "outputs": []
    },
    {
      "cell_type": "code",
      "source": [
        "spam_test_set.head()"
      ],
      "metadata": {
        "id": "drXEr5dji4BE"
      },
      "execution_count": null,
      "outputs": []
    },
    {
      "cell_type": "code",
      "source": [
        "spam_training_data, spam_training_target = spam_training_set[[\"make\", \"address\", \"all\", \"3d\", \"our\", \"over\", \"remove\", \n",
        "    \"internet\", \"order\", \"mail\", \"receive\", \"will\", \"people\", \"report\", \"addresses\", \n",
        "    \"free\", \"business\", \"email\", \"you\", \"credit\", \"your\", \"font\", \"0\", \"money\", \n",
        "    \"hp\", \"hpl\", \"george\", \"650\", \"lab\", \"labs\", \"telnet\", \"857\", \"data\", \"415\", \n",
        "    \"85\", \"technology\", \"1999\", \"parts\", \"pm\", \"direct\", \"cs\", \"meeting\", \"original\", \n",
        "    \"project\", \"re\", \"edu\", \"table\", \"conference\", \"semicol\", \"paren\", \"bracket\", \"bang\", \"dollar\", \n",
        "    \"pound\", \"cap_avg\", \"cap_long\", \"cap_total\"]], spam_training_set['Class']\n",
        "spam_test_data, spam_test_target = spam_test_set[[\"make\", \"address\", \"all\", \"3d\", \"our\", \"over\", \"remove\", \n",
        "    \"internet\", \"order\", \"mail\", \"receive\", \"will\", \"people\", \"report\", \"addresses\", \n",
        "    \"free\", \"business\", \"email\", \"you\", \"credit\", \"your\", \"font\", \"0\", \"money\", \n",
        "    \"hp\", \"hpl\", \"george\", \"650\", \"lab\", \"labs\", \"telnet\", \"857\", \"data\", \"415\", \n",
        "    \"85\", \"technology\", \"1999\", \"parts\", \"pm\", \"direct\", \"cs\", \"meeting\", \"original\", \n",
        "    \"project\", \"re\", \"edu\", \"table\", \"conference\", \"semicol\", \"paren\", \"bracket\", \"bang\", \"dollar\", \n",
        "    \"pound\", \"cap_avg\", \"cap_long\", \"cap_total\"]], spam_test_set['Class']"
      ],
      "metadata": {
        "id": "GRtaUTFRX-ak"
      },
      "execution_count": null,
      "outputs": []
    },
    {
      "cell_type": "code",
      "source": [
        "spam_training_data.head()"
      ],
      "metadata": {
        "id": "yTkl5hOJY4vf"
      },
      "execution_count": null,
      "outputs": []
    },
    {
      "cell_type": "code",
      "source": [
        "#Create training and test datasets for spam data\n",
        "spam_training_set, spam_test_set = split_train_test(spam_dataset_dataframe, 0.25)\n"
      ],
      "metadata": {
        "id": "maVobbf7ZHpR"
      },
      "execution_count": null,
      "outputs": []
    },
    {
      "cell_type": "code",
      "source": [
        "from sklearn.ensemble import RandomForestClassifier\n",
        "from sklearn import tree\n",
        "from sklearn.tree import DecisionTreeClassifier\n",
        "from sklearn.ensemble import AdaBoostClassifier\n",
        "from sklearn.linear_model import LogisticRegression\n",
        "from sklearn.neighbors import KNeighborsClassifier\n",
        "from sklearn.metrics import confusion_matrix\n",
        "from sklearn.metrics import classification_report\n",
        "from sklearn.metrics import accuracy_score\n",
        "clf = DecisionTreeClassifier(max_depth = 2,  random_state = 1000)\n",
        "#clf = RandomForestClassifier(n_estimators=10)\n",
        "#clf = KNeighborsClassifier(n_neighbors=3)\n",
        "#clf = AdaBoostClassifier(n_estimators = 200)\n",
        "#LRI = LogisticRegression( )\n",
        "#clf = AdaBoostClassifier(n_estimators = 200,base_estimator=LRI)\n",
        "clf.fit(spam_training_data,spam_training_target)"
      ],
      "metadata": {
        "colab": {
          "base_uri": "https://localhost:8080/"
        },
        "id": "vA5XUnzxZxc9",
        "outputId": "a6b170e1-ef32-4eb2-8555-a0d9472d5746"
      },
      "execution_count": null,
      "outputs": [
        {
          "output_type": "execute_result",
          "data": {
            "text/plain": [
              "DecisionTreeClassifier(max_depth=2, random_state=1000)"
            ]
          },
          "metadata": {},
          "execution_count": 83
        }
      ]
    },
    {
      "cell_type": "code",
      "source": [
        "spam_test_target_predict=clf.predict(spam_test_data)"
      ],
      "metadata": {
        "id": "yCB3MyYbaVTq"
      },
      "execution_count": null,
      "outputs": []
    },
    {
      "cell_type": "code",
      "source": [
        "matrix_result = confusion_matrix(spam_test_target,spam_test_target_predict)\n",
        "print(matrix_result)"
      ],
      "metadata": {
        "id": "KZMxMQklaTM3"
      },
      "execution_count": null,
      "outputs": []
    },
    {
      "cell_type": "code",
      "source": [
        "full_report = classification_report(spam_test_target,spam_test_target_predict)\n",
        "print(full_report)"
      ],
      "metadata": {
        "id": "xR7e6zhj6Suv"
      },
      "execution_count": null,
      "outputs": []
    },
    {
      "cell_type": "code",
      "source": [
        "final_score = accuracy_score(spam_test_target,spam_test_target_predict)\n",
        "print(final_score)"
      ],
      "metadata": {
        "id": "raS_4AEl6TAU"
      },
      "execution_count": null,
      "outputs": []
    },
    {
      "cell_type": "code",
      "source": [
        "from sklearn import tree"
      ],
      "metadata": {
        "id": "BpGQP4-2JNXg"
      },
      "execution_count": null,
      "outputs": []
    },
    {
      "cell_type": "code",
      "source": [
        "tree.plot_tree(clf)"
      ],
      "metadata": {
        "id": "9eiWgeOVJQ3G"
      },
      "execution_count": null,
      "outputs": []
    }
  ]
}