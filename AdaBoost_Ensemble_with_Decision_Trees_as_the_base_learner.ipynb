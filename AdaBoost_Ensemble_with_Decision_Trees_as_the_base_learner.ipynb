{
  "nbformat": 4,
  "nbformat_minor": 0,
  "metadata": {
    "colab": {
      "provenance": [],
      "authorship_tag": "ABX9TyO8pYnrbe0NlPPeddGAN+8S",
      "include_colab_link": true
    },
    "kernelspec": {
      "name": "python3",
      "display_name": "Python 3"
    },
    "language_info": {
      "name": "python"
    }
  },
  "cells": [
    {
      "cell_type": "markdown",
      "metadata": {
        "id": "view-in-github",
        "colab_type": "text"
      },
      "source": [
        "<a href=\"https://colab.research.google.com/github/kollamohanchaitanya/Data-Science-projects/blob/main/AdaBoost_Ensemble_with_Decision_Trees_as_the_base_learner.ipynb\" target=\"_parent\"><img src=\"https://colab.research.google.com/assets/colab-badge.svg\" alt=\"Open In Colab\"/></a>"
      ]
    },
    {
      "cell_type": "code",
      "execution_count": null,
      "metadata": {
        "id": "MLq7lOB8BvqQ"
      },
      "outputs": [],
      "source": [
        "!pip install --upgrade tensorflow"
      ]
    },
    {
      "cell_type": "code",
      "source": [
        "from __future__ import print_function\n",
        "import pandas as pd\n",
        "pd.__version__"
      ],
      "metadata": {
        "colab": {
          "base_uri": "https://localhost:8080/",
          "height": 35
        },
        "id": "AxLKf6B7BwTu",
        "outputId": "0cc50b53-48db-4b44-9714-91bb2bc95102"
      },
      "execution_count": null,
      "outputs": [
        {
          "output_type": "execute_result",
          "data": {
            "text/plain": [
              "'1.3.5'"
            ],
            "application/vnd.google.colaboratory.intrinsic+json": {
              "type": "string"
            }
          },
          "metadata": {},
          "execution_count": 3
        }
      ]
    },
    {
      "cell_type": "code",
      "source": [
        "import os\n",
        "os.getcwd()"
      ],
      "metadata": {
        "colab": {
          "base_uri": "https://localhost:8080/",
          "height": 35
        },
        "id": "M_YurWhwBwWa",
        "outputId": "175b7d9e-ac5e-4efc-fb5f-864dabec31ff"
      },
      "execution_count": null,
      "outputs": [
        {
          "output_type": "execute_result",
          "data": {
            "text/plain": [
              "'/content'"
            ],
            "application/vnd.google.colaboratory.intrinsic+json": {
              "type": "string"
            }
          },
          "metadata": {},
          "execution_count": 4
        }
      ]
    },
    {
      "cell_type": "code",
      "source": [
        "#Mouting the drive to load a simple dataset stored on the google drive\n",
        "from google.colab import drive\n",
        "drive.mount('/content/gdrive')"
      ],
      "metadata": {
        "colab": {
          "base_uri": "https://localhost:8080/"
        },
        "id": "rGSLok_VBwZR",
        "outputId": "61393523-5589-4c39-89df-f28d3372e9f9"
      },
      "execution_count": null,
      "outputs": [
        {
          "output_type": "stream",
          "name": "stdout",
          "text": [
            "Mounted at /content/gdrive\n"
          ]
        }
      ]
    },
    {
      "cell_type": "code",
      "source": [
        "spam_dataset_dataframe = pd.read_csv(\"/content/gdrive/My Drive/spam.csv\", sep = ',')"
      ],
      "metadata": {
        "id": "6F2tV5obBwb3"
      },
      "execution_count": null,
      "outputs": []
    },
    {
      "cell_type": "code",
      "source": [
        "import numpy as np"
      ],
      "metadata": {
        "id": "_RKc9w9PBwj0"
      },
      "execution_count": null,
      "outputs": []
    },
    {
      "cell_type": "code",
      "source": [
        "def split_train_test(data,test_ratio):\n",
        "  np.random.seed(42) # fix the seed if you want to generate the same\n",
        "  shuffled_indices = np.random.permutation(len(data))\n",
        "  test_set_size = int(len(data)*test_ratio)\n",
        "  test_indices = shuffled_indices[:test_set_size]\n",
        "  train_indices = shuffled_indices[test_set_size:]\n",
        "  return data.iloc[train_indices], data.iloc[test_indices]"
      ],
      "metadata": {
        "id": "vlQroyzuBwmT"
      },
      "execution_count": null,
      "outputs": []
    },
    {
      "cell_type": "code",
      "source": [
        "from sklearn.model_selection import train_test_split"
      ],
      "metadata": {
        "id": "49gS7nRnBwo5"
      },
      "execution_count": null,
      "outputs": []
    },
    {
      "cell_type": "code",
      "source": [
        "spam_training_set, spam_test_set = train_test_split(spam_dataset_dataframe, test_size=0.25,random_state=1000)\n",
        "spam_dataset_dataframe.keys()\n"
      ],
      "metadata": {
        "id": "3Rp9vb8-Bwrd"
      },
      "execution_count": null,
      "outputs": []
    },
    {
      "cell_type": "code",
      "source": [
        "spam_training_data, spam_training_target = spam_training_set[[\"make\", \"address\", \"all\", \"3d\", \"our\", \"over\", \"remove\", \n",
        "    \"internet\", \"order\", \"mail\", \"receive\", \"will\", \"people\", \"report\", \"addresses\", \n",
        "    \"free\", \"business\", \"email\", \"you\", \"credit\", \"your\", \"font\", \"0\", \"money\", \n",
        "    \"hp\", \"hpl\", \"george\", \"650\", \"lab\", \"labs\", \"telnet\", \"857\", \"data\", \"415\", \n",
        "    \"85\", \"technology\", \"1999\", \"parts\", \"pm\", \"direct\", \"cs\", \"meeting\", \"original\", \n",
        "    \"project\", \"re\", \"edu\", \"table\", \"conference\", \"semicol\", \"paren\", \"bracket\", \"bang\", \"dollar\", \n",
        "    \"pound\", \"cap_avg\", \"cap_long\", \"cap_total\"]], spam_training_set['Class']\n",
        "spam_test_data, spam_test_target = spam_test_set[[\"make\", \"address\", \"all\", \"3d\", \"our\", \"over\", \"remove\", \n",
        "    \"internet\", \"order\", \"mail\", \"receive\", \"will\", \"people\", \"report\", \"addresses\", \n",
        "    \"free\", \"business\", \"email\", \"you\", \"credit\", \"your\", \"font\", \"0\", \"money\", \n",
        "    \"hp\", \"hpl\", \"george\", \"650\", \"lab\", \"labs\", \"telnet\", \"857\", \"data\", \"415\", \n",
        "    \"85\", \"technology\", \"1999\", \"parts\", \"pm\", \"direct\", \"cs\", \"meeting\", \"original\", \n",
        "    \"project\", \"re\", \"edu\", \"table\", \"conference\", \"semicol\", \"paren\", \"bracket\", \"bang\", \"dollar\", \n",
        "    \"pound\", \"cap_avg\", \"cap_long\", \"cap_total\"]], spam_test_set['Class']"
      ],
      "metadata": {
        "id": "iTJPxn_4Coxq"
      },
      "execution_count": null,
      "outputs": []
    },
    {
      "cell_type": "code",
      "source": [
        "# FUSED MODEL\n",
        "\n",
        "from sklearn.ensemble import RandomForestClassifier\n",
        "from sklearn import tree\n",
        "from sklearn.tree import DecisionTreeClassifier\n",
        "from sklearn.naive_bayes import GaussianNB\n",
        "from sklearn.ensemble import AdaBoostClassifier, VotingClassifier\n",
        "from sklearn.linear_model import LogisticRegression\n",
        "from sklearn.neighbors import KNeighborsClassifier\n",
        "from sklearn.metrics import confusion_matrix\n",
        "from sklearn.metrics import classification_report\n",
        "from sklearn.metrics import accuracy_score\n",
        "#clf = RandomForestClassifier(n_estimators=100)\n",
        "#clf = DecisionTreeClassifier(criterion = \"entropy\")\n",
        "clf_dt = DecisionTreeClassifier(criterion = \"entropy\")\n",
        "#clf = KNeighborsClassifier(n_neighbors=7)\n",
        "#clf = AdaBoostClassifier(n_estimators = 200)\n",
        "#LRI = LogisticRegression()\n",
        "clf_lr = LogisticRegression()\n",
        "clf_gnb = GaussianNB()\n",
        "#clf = AdaBoostClassifier(n_estimators = 200,base_estimator=LRI)\n",
        "eclf = VotingClassifier(estimators = [('DT', clf_dt),('LR',clf_lr),('GNB',clf_gnb)], voting ='hard')\n",
        "#clf.fit(spam_training_data,spam_training_target)\n",
        "eclf.fit(spam_training_data,spam_training_target)"
      ],
      "metadata": {
        "id": "f16Z8bP0BwyZ"
      },
      "execution_count": null,
      "outputs": []
    },
    {
      "cell_type": "code",
      "source": [
        "#spam_test_target_predict=clf.predict(spam_test_data)\n",
        "spam_test_target_predict =eclf.predict(spam_test_data)\n",
        "confusion_matrix(spam_test_target,spam_test_target_predict)\n",
        "#classification_report(spam_test_target,spam_test_target_predict)"
      ],
      "metadata": {
        "colab": {
          "base_uri": "https://localhost:8080/"
        },
        "id": "VVoI6wDKBw03",
        "outputId": "a1692841-0ab6-4e99-8667-f6a82a32d860"
      },
      "execution_count": null,
      "outputs": [
        {
          "output_type": "execute_result",
          "data": {
            "text/plain": [
              "array([[638,  61],\n",
              "       [ 24, 428]])"
            ]
          },
          "metadata": {},
          "execution_count": 13
        }
      ]
    },
    {
      "cell_type": "code",
      "source": [
        "accuracy_score(spam_test_target,spam_test_target_predict)"
      ],
      "metadata": {
        "colab": {
          "base_uri": "https://localhost:8080/"
        },
        "id": "qvKCjfEThf1I",
        "outputId": "59ee88d8-2ffd-4434-fc2d-b1d0e9e8612e"
      },
      "execution_count": null,
      "outputs": [
        {
          "output_type": "execute_result",
          "data": {
            "text/plain": [
              "0.9261511728931364"
            ]
          },
          "metadata": {},
          "execution_count": 14
        }
      ]
    },
    {
      "cell_type": "code",
      "source": [
        "#Adaboost classifier using decisiontree as base_learner\n",
        "\n",
        "from sklearn.ensemble import RandomForestClassifier\n",
        "from sklearn import tree\n",
        "from sklearn.tree import DecisionTreeClassifier\n",
        "from sklearn.naive_bayes import GaussianNB\n",
        "from sklearn.ensemble import AdaBoostClassifier, VotingClassifier\n",
        "from sklearn.linear_model import LogisticRegression\n",
        "from sklearn.neighbors import KNeighborsClassifier\n",
        "from sklearn.metrics import confusion_matrix\n",
        "from sklearn.metrics import classification_report\n",
        "from sklearn.metrics import accuracy_score\n",
        "#clf = RandomForestClassifier(n_estimators=100)\n",
        "clf = DecisionTreeClassifier(criterion = \"entropy\")\n",
        "#clf_dt = DecisionTreeClassifier(criterion = \"entropy\")\n",
        "#clf = KNeighborsClassifier(n_neighbors=7)\n",
        "#clf = AdaBoostClassifier(n_estimators = 200)\n",
        "#LRI = LogisticRegression()\n",
        "#clf_lr = LogisticRegression()\n",
        "#clf_gnb = GaussianNB()\n",
        "clf = AdaBoostClassifier(n_estimators = 200,base_estimator=clf)\n",
        "#eclf = VotingClassifier(estimators = [('DT', clf_dt),('LR',clf_lr),('GNB',clf_gnb)], voting ='hard')\n",
        "clf.fit(spam_training_data,spam_training_target)\n",
        "#eclf.fit(spam_training_data,spam_training_target)"
      ],
      "metadata": {
        "colab": {
          "base_uri": "https://localhost:8080/"
        },
        "id": "QzASMorqjkhi",
        "outputId": "a4a1fefd-7f29-4aad-98ee-ebd08e40e0b1"
      },
      "execution_count": null,
      "outputs": [
        {
          "output_type": "execute_result",
          "data": {
            "text/plain": [
              "AdaBoostClassifier(base_estimator=DecisionTreeClassifier(criterion='entropy'),\n",
              "                   n_estimators=200)"
            ]
          },
          "metadata": {},
          "execution_count": 15
        }
      ]
    },
    {
      "cell_type": "code",
      "source": [
        "#spam_test_target_predict=clf.predict(spam_test_data)\n",
        "spam_test_target_predict =eclf.predict(spam_test_data)\n",
        "confusion_matrix(spam_test_target,spam_test_target_predict)\n",
        "#classification_report(spam_test_target,spam_test_target_predict)"
      ],
      "metadata": {
        "colab": {
          "base_uri": "https://localhost:8080/"
        },
        "id": "gcHzNfFrjkkf",
        "outputId": "5894864c-8852-40cc-fab1-f8ea7d65b5cf"
      },
      "execution_count": null,
      "outputs": [
        {
          "output_type": "execute_result",
          "data": {
            "text/plain": [
              "array([[638,  61],\n",
              "       [ 24, 428]])"
            ]
          },
          "metadata": {},
          "execution_count": 16
        }
      ]
    },
    {
      "cell_type": "code",
      "source": [
        "accuracy_score(spam_test_target,spam_test_target_predict)"
      ],
      "metadata": {
        "colab": {
          "base_uri": "https://localhost:8080/"
        },
        "id": "Qem3nKnJjkm1",
        "outputId": "3fa34b01-cb7d-4c76-8e63-709ebfb6ab4f"
      },
      "execution_count": null,
      "outputs": [
        {
          "output_type": "execute_result",
          "data": {
            "text/plain": [
              "0.9261511728931364"
            ]
          },
          "metadata": {},
          "execution_count": 17
        }
      ]
    },
    {
      "cell_type": "code",
      "source": [
        "#Adaboost classifier using Random forest as base_learner\n",
        "\n",
        "from sklearn.ensemble import RandomForestClassifier\n",
        "from sklearn import tree\n",
        "from sklearn.tree import DecisionTreeClassifier\n",
        "from sklearn.naive_bayes import GaussianNB\n",
        "from sklearn.ensemble import AdaBoostClassifier, VotingClassifier\n",
        "from sklearn.linear_model import LogisticRegression\n",
        "from sklearn.neighbors import KNeighborsClassifier\n",
        "from sklearn.metrics import confusion_matrix\n",
        "from sklearn.metrics import classification_report\n",
        "from sklearn.metrics import accuracy_score\n",
        "clf = RandomForestClassifier()\n",
        "#clf = DecisionTreeClassifier(criterion = \"entropy\")\n",
        "#clf_dt = DecisionTreeClassifier(criterion = \"entropy\")\n",
        "#clf = KNeighborsClassifier(n_neighbors=7)\n",
        "#clf = AdaBoostClassifier(n_estimators = 200)\n",
        "#LRI = LogisticRegression()\n",
        "#clf_lr = LogisticRegression()\n",
        "#clf_gnb = GaussianNB()\n",
        "clf = AdaBoostClassifier(n_estimators = 200,base_estimator=clf)\n",
        "#eclf = VotingClassifier(estimators = [('DT', clf_dt),('LR',clf_lr),('GNB',clf_gnb)], voting ='hard')\n",
        "clf.fit(spam_training_data,spam_training_target)\n",
        "#eclf.fit(spam_training_data,spam_training_target)"
      ],
      "metadata": {
        "colab": {
          "base_uri": "https://localhost:8080/"
        },
        "id": "QlRL2lsdjkr6",
        "outputId": "5b99dc93-d63b-4766-996e-9dc8aefea897"
      },
      "execution_count": null,
      "outputs": [
        {
          "output_type": "execute_result",
          "data": {
            "text/plain": [
              "AdaBoostClassifier(base_estimator=RandomForestClassifier(), n_estimators=200)"
            ]
          },
          "metadata": {},
          "execution_count": 18
        }
      ]
    },
    {
      "cell_type": "code",
      "source": [
        "#spam_test_target_predict=clf.predict(spam_test_data)\n",
        "spam_test_target_predict =eclf.predict(spam_test_data)\n",
        "confusion_matrix(spam_test_target,spam_test_target_predict)\n",
        "#classification_report(spam_test_target,spam_test_target_predict)"
      ],
      "metadata": {
        "colab": {
          "base_uri": "https://localhost:8080/"
        },
        "id": "bOtePvOEjkuh",
        "outputId": "cb36391a-5b19-4ea5-a993-a7ee8fc132d5"
      },
      "execution_count": null,
      "outputs": [
        {
          "output_type": "execute_result",
          "data": {
            "text/plain": [
              "array([[638,  61],\n",
              "       [ 24, 428]])"
            ]
          },
          "metadata": {},
          "execution_count": 19
        }
      ]
    },
    {
      "cell_type": "code",
      "source": [
        "accuracy_score(spam_test_target,spam_test_target_predict)"
      ],
      "metadata": {
        "colab": {
          "base_uri": "https://localhost:8080/"
        },
        "id": "NAczjQNvjkxZ",
        "outputId": "4e2e5450-1dd8-45a7-9e20-ef032fd8a510"
      },
      "execution_count": null,
      "outputs": [
        {
          "output_type": "execute_result",
          "data": {
            "text/plain": [
              "0.9261511728931364"
            ]
          },
          "metadata": {},
          "execution_count": 20
        }
      ]
    },
    {
      "cell_type": "code",
      "source": [
        "#50%-50%\n",
        "\n",
        "spam_training_set, spam_test_set = train_test_split(spam_dataset_dataframe, test_size=0.5,random_state=1000)\n",
        "spam_dataset_dataframe.keys()"
      ],
      "metadata": {
        "id": "pykcxwa2jk0A"
      },
      "execution_count": null,
      "outputs": []
    },
    {
      "cell_type": "code",
      "source": [
        "spam_training_data, spam_training_target = spam_training_set[[\"make\", \"address\", \"all\", \"3d\", \"our\", \"over\", \"remove\", \n",
        "    \"internet\", \"order\", \"mail\", \"receive\", \"will\", \"people\", \"report\", \"addresses\", \n",
        "    \"free\", \"business\", \"email\", \"you\", \"credit\", \"your\", \"font\", \"0\", \"money\", \n",
        "    \"hp\", \"hpl\", \"george\", \"650\", \"lab\", \"labs\", \"telnet\", \"857\", \"data\", \"415\", \n",
        "    \"85\", \"technology\", \"1999\", \"parts\", \"pm\", \"direct\", \"cs\", \"meeting\", \"original\", \n",
        "    \"project\", \"re\", \"edu\", \"table\", \"conference\", \"semicol\", \"paren\", \"bracket\", \"bang\", \"dollar\", \n",
        "    \"pound\", \"cap_avg\", \"cap_long\", \"cap_total\"]], spam_training_set['Class']\n",
        "spam_test_data, spam_test_target = spam_test_set[[\"make\", \"address\", \"all\", \"3d\", \"our\", \"over\", \"remove\", \n",
        "    \"internet\", \"order\", \"mail\", \"receive\", \"will\", \"people\", \"report\", \"addresses\", \n",
        "    \"free\", \"business\", \"email\", \"you\", \"credit\", \"your\", \"font\", \"0\", \"money\", \n",
        "    \"hp\", \"hpl\", \"george\", \"650\", \"lab\", \"labs\", \"telnet\", \"857\", \"data\", \"415\", \n",
        "    \"85\", \"technology\", \"1999\", \"parts\", \"pm\", \"direct\", \"cs\", \"meeting\", \"original\", \n",
        "    \"project\", \"re\", \"edu\", \"table\", \"conference\", \"semicol\", \"paren\", \"bracket\", \"bang\", \"dollar\", \n",
        "    \"pound\", \"cap_avg\", \"cap_long\", \"cap_total\"]], spam_test_set['Class']"
      ],
      "metadata": {
        "id": "RG-YSeiUjk2u"
      },
      "execution_count": null,
      "outputs": []
    },
    {
      "cell_type": "code",
      "source": [
        "# FUSED MODEL for #50%-50%\n",
        "\n",
        "from sklearn.ensemble import RandomForestClassifier\n",
        "from sklearn import tree\n",
        "from sklearn.tree import DecisionTreeClassifier\n",
        "from sklearn.naive_bayes import GaussianNB\n",
        "from sklearn.ensemble import AdaBoostClassifier, VotingClassifier\n",
        "from sklearn.linear_model import LogisticRegression\n",
        "from sklearn.neighbors import KNeighborsClassifier\n",
        "from sklearn.metrics import confusion_matrix\n",
        "from sklearn.metrics import classification_report\n",
        "from sklearn.metrics import accuracy_score\n",
        "#clf = RandomForestClassifier(n_estimators=100)\n",
        "#clf = DecisionTreeClassifier(criterion = \"entropy\")\n",
        "clf_dt = DecisionTreeClassifier(criterion = \"entropy\")\n",
        "#clf = KNeighborsClassifier(n_neighbors=7)\n",
        "#clf = AdaBoostClassifier(n_estimators = 200)\n",
        "#LRI = LogisticRegression()\n",
        "clf_lr = LogisticRegression()\n",
        "clf_gnb = GaussianNB()\n",
        "#clf = AdaBoostClassifier(n_estimators = 200,base_estimator=LRI)\n",
        "eclf = VotingClassifier(estimators = [('DT', clf_dt),('LR',clf_lr),('GNB',clf_gnb)], voting ='hard')\n",
        "#clf.fit(spam_training_data,spam_training_target)\n",
        "eclf.fit(spam_training_data,spam_training_target)"
      ],
      "metadata": {
        "id": "MlIhNInKjk8c"
      },
      "execution_count": null,
      "outputs": []
    },
    {
      "cell_type": "code",
      "source": [
        "#spam_test_target_predict=clf.predict(spam_test_data)\n",
        "spam_test_target_predict =eclf.predict(spam_test_data)\n",
        "confusion_matrix(spam_test_target,spam_test_target_predict)\n",
        "#classification_report(spam_test_target,spam_test_target_predict)"
      ],
      "metadata": {
        "colab": {
          "base_uri": "https://localhost:8080/"
        },
        "id": "ezI9U4wEjk_M",
        "outputId": "8582bb4c-73f9-471c-8361-beb32d4630f1"
      },
      "execution_count": null,
      "outputs": [
        {
          "output_type": "execute_result",
          "data": {
            "text/plain": [
              "array([[1286,  105],\n",
              "       [  56,  854]])"
            ]
          },
          "metadata": {},
          "execution_count": 24
        }
      ]
    },
    {
      "cell_type": "code",
      "source": [
        "accuracy_score(spam_test_target,spam_test_target_predict)"
      ],
      "metadata": {
        "colab": {
          "base_uri": "https://localhost:8080/"
        },
        "id": "jNkANen5jlCD",
        "outputId": "76cb217f-cd90-4bf6-d6d0-07b0b4452d10"
      },
      "execution_count": null,
      "outputs": [
        {
          "output_type": "execute_result",
          "data": {
            "text/plain": [
              "0.9300304215558453"
            ]
          },
          "metadata": {},
          "execution_count": 25
        }
      ]
    },
    {
      "cell_type": "code",
      "source": [
        "#Adaboost classifier using decisiontree as base_learner for #50%-50%\n",
        "\n",
        "from sklearn.ensemble import RandomForestClassifier\n",
        "from sklearn import tree\n",
        "from sklearn.tree import DecisionTreeClassifier\n",
        "from sklearn.naive_bayes import GaussianNB\n",
        "from sklearn.ensemble import AdaBoostClassifier, VotingClassifier\n",
        "from sklearn.linear_model import LogisticRegression\n",
        "from sklearn.neighbors import KNeighborsClassifier\n",
        "from sklearn.metrics import confusion_matrix\n",
        "from sklearn.metrics import classification_report\n",
        "from sklearn.metrics import accuracy_score\n",
        "#clf = RandomForestClassifier(n_estimators=100)\n",
        "clf = DecisionTreeClassifier(criterion = \"entropy\")\n",
        "#clf_dt = DecisionTreeClassifier(criterion = \"entropy\")\n",
        "#clf = KNeighborsClassifier(n_neighbors=7)\n",
        "#clf = AdaBoostClassifier(n_estimators = 200)\n",
        "#LRI = LogisticRegression()\n",
        "#clf_lr = LogisticRegression()\n",
        "#clf_gnb = GaussianNB()\n",
        "clf = AdaBoostClassifier(n_estimators = 200,base_estimator=clf)\n",
        "#eclf = VotingClassifier(estimators = [('DT', clf_dt),('LR',clf_lr),('GNB',clf_gnb)], voting ='hard')\n",
        "clf.fit(spam_training_data,spam_training_target)\n",
        "#eclf.fit(spam_training_data,spam_training_target)"
      ],
      "metadata": {
        "colab": {
          "base_uri": "https://localhost:8080/"
        },
        "id": "eg-lLzTYva_v",
        "outputId": "2da12d24-15a5-45e2-c0a4-1d8e16bcf151"
      },
      "execution_count": null,
      "outputs": [
        {
          "output_type": "execute_result",
          "data": {
            "text/plain": [
              "AdaBoostClassifier(base_estimator=DecisionTreeClassifier(criterion='entropy'),\n",
              "                   n_estimators=200)"
            ]
          },
          "metadata": {},
          "execution_count": 26
        }
      ]
    },
    {
      "cell_type": "code",
      "source": [
        "#spam_test_target_predict=clf.predict(spam_test_data)\n",
        "spam_test_target_predict =eclf.predict(spam_test_data)\n",
        "confusion_matrix(spam_test_target,spam_test_target_predict)\n",
        "#classification_report(spam_test_target,spam_test_target_predict)"
      ],
      "metadata": {
        "colab": {
          "base_uri": "https://localhost:8080/"
        },
        "id": "aUjdtC_wvbMf",
        "outputId": "eba3730b-3f4d-4b90-ae43-97a18afddce2"
      },
      "execution_count": null,
      "outputs": [
        {
          "output_type": "execute_result",
          "data": {
            "text/plain": [
              "array([[1286,  105],\n",
              "       [  56,  854]])"
            ]
          },
          "metadata": {},
          "execution_count": 27
        }
      ]
    },
    {
      "cell_type": "code",
      "source": [
        "accuracy_score(spam_test_target,spam_test_target_predict)"
      ],
      "metadata": {
        "colab": {
          "base_uri": "https://localhost:8080/"
        },
        "id": "k8Fu_TsGvbai",
        "outputId": "d228a4d8-5de3-44c5-fb7a-e13c5ca256c1"
      },
      "execution_count": null,
      "outputs": [
        {
          "output_type": "execute_result",
          "data": {
            "text/plain": [
              "0.9300304215558453"
            ]
          },
          "metadata": {},
          "execution_count": 28
        }
      ]
    },
    {
      "cell_type": "code",
      "source": [
        "#60%-40%\n",
        "spam_training_set, spam_test_set = train_test_split(spam_dataset_dataframe, test_size=0.4,random_state=1000)\n",
        "spam_dataset_dataframe.keys()\n",
        "\n"
      ],
      "metadata": {
        "colab": {
          "base_uri": "https://localhost:8080/"
        },
        "id": "xsKXeDr9zojs",
        "outputId": "2bc6b816-c83d-4669-a3fb-b0198894bd50"
      },
      "execution_count": null,
      "outputs": [
        {
          "output_type": "execute_result",
          "data": {
            "text/plain": [
              "Index(['make', 'address', 'all', '3d', 'our', 'over', 'remove', 'internet',\n",
              "       'order', 'mail', 'receive', 'will', 'people', 'report', 'addresses',\n",
              "       'free', 'business', 'email', 'you', 'credit', 'your', 'font', '0',\n",
              "       'money', 'hp', 'hpl', 'george', '650', 'lab', 'labs', 'telnet', '857',\n",
              "       'data', '415', '85', 'technology', '1999', 'parts', 'pm', 'direct',\n",
              "       'cs', 'meeting', 'original', 'project', 're', 'edu', 'table',\n",
              "       'conference', 'semicol', 'paren', 'bracket', 'bang', 'dollar', 'pound',\n",
              "       'cap_avg', 'cap_long', 'cap_total', 'Class'],\n",
              "      dtype='object')"
            ]
          },
          "metadata": {},
          "execution_count": 53
        }
      ]
    },
    {
      "cell_type": "code",
      "source": [
        "spam_training_data, spam_training_target = spam_training_set[[\"make\", \"address\", \"all\", \"3d\", \"our\", \"over\", \"remove\", \n",
        "    \"internet\", \"order\", \"mail\", \"receive\", \"will\", \"people\", \"report\", \"addresses\", \n",
        "    \"free\", \"business\", \"email\", \"you\", \"credit\", \"your\", \"font\", \"0\", \"money\", \n",
        "    \"hp\", \"hpl\", \"george\", \"650\", \"lab\", \"labs\", \"telnet\", \"857\", \"data\", \"415\", \n",
        "    \"85\", \"technology\", \"1999\", \"parts\", \"pm\", \"direct\", \"cs\", \"meeting\", \"original\", \n",
        "    \"project\", \"re\", \"edu\", \"table\", \"conference\", \"semicol\", \"paren\", \"bracket\", \"bang\", \"dollar\", \n",
        "    \"pound\", \"cap_avg\", \"cap_long\", \"cap_total\"]], spam_training_set['Class']\n",
        "spam_test_data, spam_test_target = spam_test_set[[\"make\", \"address\", \"all\", \"3d\", \"our\", \"over\", \"remove\", \n",
        "    \"internet\", \"order\", \"mail\", \"receive\", \"will\", \"people\", \"report\", \"addresses\", \n",
        "    \"free\", \"business\", \"email\", \"you\", \"credit\", \"your\", \"font\", \"0\", \"money\", \n",
        "    \"hp\", \"hpl\", \"george\", \"650\", \"lab\", \"labs\", \"telnet\", \"857\", \"data\", \"415\", \n",
        "    \"85\", \"technology\", \"1999\", \"parts\", \"pm\", \"direct\", \"cs\", \"meeting\", \"original\", \n",
        "    \"project\", \"re\", \"edu\", \"table\", \"conference\", \"semicol\", \"paren\", \"bracket\", \"bang\", \"dollar\", \n",
        "    \"pound\", \"cap_avg\", \"cap_long\", \"cap_total\"]], spam_test_set['Class']"
      ],
      "metadata": {
        "id": "wlPBFZ9iDJX3"
      },
      "execution_count": null,
      "outputs": []
    },
    {
      "cell_type": "code",
      "source": [
        "# FUSED MODEL for #60%-40%\n",
        "\n",
        "from sklearn.ensemble import RandomForestClassifier\n",
        "from sklearn import tree\n",
        "from sklearn.tree import DecisionTreeClassifier\n",
        "from sklearn.naive_bayes import GaussianNB\n",
        "from sklearn.ensemble import AdaBoostClassifier, VotingClassifier\n",
        "from sklearn.linear_model import LogisticRegression\n",
        "from sklearn.neighbors import KNeighborsClassifier\n",
        "from sklearn.metrics import confusion_matrix\n",
        "from sklearn.metrics import classification_report\n",
        "from sklearn.metrics import accuracy_score\n",
        "#clf = RandomForestClassifier(n_estimators=100)\n",
        "#clf = DecisionTreeClassifier(criterion = \"entropy\")\n",
        "clf_dt = DecisionTreeClassifier(criterion = \"entropy\")\n",
        "#clf = KNeighborsClassifier(n_neighbors=7)\n",
        "#clf = AdaBoostClassifier(n_estimators = 200)\n",
        "#LRI = LogisticRegression()\n",
        "clf_lr = LogisticRegression()\n",
        "clf_gnb = GaussianNB()\n",
        "#clf = AdaBoostClassifier(n_estimators = 200,base_estimator=LRI)\n",
        "eclf = VotingClassifier(estimators = [('DT', clf_dt),('LR',clf_lr),('GNB',clf_gnb)], voting ='hard')\n",
        "#clf.fit(spam_training_data,spam_training_target)\n",
        "eclf.fit(spam_training_data,spam_training_target)"
      ],
      "metadata": {
        "colab": {
          "base_uri": "https://localhost:8080/"
        },
        "id": "Gvn3MFWKDJdw",
        "outputId": "62a7b40d-4c83-424c-d0fb-e6fbb862179f"
      },
      "execution_count": null,
      "outputs": [
        {
          "output_type": "stream",
          "name": "stderr",
          "text": [
            "/usr/local/lib/python3.8/dist-packages/sklearn/linear_model/_logistic.py:814: ConvergenceWarning: lbfgs failed to converge (status=1):\n",
            "STOP: TOTAL NO. of ITERATIONS REACHED LIMIT.\n",
            "\n",
            "Increase the number of iterations (max_iter) or scale the data as shown in:\n",
            "    https://scikit-learn.org/stable/modules/preprocessing.html\n",
            "Please also refer to the documentation for alternative solver options:\n",
            "    https://scikit-learn.org/stable/modules/linear_model.html#logistic-regression\n",
            "  n_iter_i = _check_optimize_result(\n"
          ]
        },
        {
          "output_type": "execute_result",
          "data": {
            "text/plain": [
              "VotingClassifier(estimators=[('DT',\n",
              "                              DecisionTreeClassifier(criterion='entropy')),\n",
              "                             ('LR', LogisticRegression()),\n",
              "                             ('GNB', GaussianNB())])"
            ]
          },
          "metadata": {},
          "execution_count": 31
        }
      ]
    },
    {
      "cell_type": "code",
      "source": [
        "\n",
        "#spam_test_target_predict=clf.predict(spam_test_data)\n",
        "spam_test_target_predict =eclf.predict(spam_test_data)\n",
        "confusion_matrix(spam_test_target,spam_test_target_predict)\n",
        "#classification_report(spam_test_target,spam_test_target_predict"
      ],
      "metadata": {
        "colab": {
          "base_uri": "https://localhost:8080/"
        },
        "id": "cHFC4U2vDJhh",
        "outputId": "7315050a-c286-432d-c963-c039cb8a2d4a"
      },
      "execution_count": null,
      "outputs": [
        {
          "output_type": "execute_result",
          "data": {
            "text/plain": [
              "array([[1029,   89],\n",
              "       [  41,  682]])"
            ]
          },
          "metadata": {},
          "execution_count": 32
        }
      ]
    },
    {
      "cell_type": "code",
      "source": [
        "accuracy_score(spam_test_target,spam_test_target_predict)"
      ],
      "metadata": {
        "colab": {
          "base_uri": "https://localhost:8080/"
        },
        "id": "eDYXAioYDJk5",
        "outputId": "43862d48-278d-4fc2-e329-5f7732265198"
      },
      "execution_count": null,
      "outputs": [
        {
          "output_type": "execute_result",
          "data": {
            "text/plain": [
              "0.9293862031504617"
            ]
          },
          "metadata": {},
          "execution_count": 33
        }
      ]
    },
    {
      "cell_type": "code",
      "source": [
        "#Adaboost classifier using decisiontree as base_learner for #60%-40%\n",
        "\n",
        "from sklearn.ensemble import RandomForestClassifier\n",
        "from sklearn import tree\n",
        "from sklearn.tree import DecisionTreeClassifier\n",
        "from sklearn.naive_bayes import GaussianNB\n",
        "from sklearn.ensemble import AdaBoostClassifier, VotingClassifier\n",
        "from sklearn.linear_model import LogisticRegression\n",
        "from sklearn.neighbors import KNeighborsClassifier\n",
        "from sklearn.metrics import confusion_matrix\n",
        "from sklearn.metrics import classification_report\n",
        "from sklearn.metrics import accuracy_score\n",
        "#clf = RandomForestClassifier(n_estimators=100)\n",
        "clf = DecisionTreeClassifier(criterion = \"entropy\")\n",
        "#clf_dt = DecisionTreeClassifier(criterion = \"entropy\")\n",
        "#clf = KNeighborsClassifier(n_neighbors=7)\n",
        "#clf = AdaBoostClassifier(n_estimators = 200)\n",
        "#LRI = LogisticRegression()\n",
        "#clf_lr = LogisticRegression()\n",
        "#clf_gnb = GaussianNB()\n",
        "clf = AdaBoostClassifier(n_estimators = 200,base_estimator=clf)\n",
        "#eclf = VotingClassifier(estimators = [('DT', clf_dt),('LR',clf_lr),('GNB',clf_gnb)], voting ='hard')\n",
        "clf.fit(spam_training_data,spam_training_target)\n",
        "#eclf.fit(spam_training_data,spam_training_target)"
      ],
      "metadata": {
        "colab": {
          "base_uri": "https://localhost:8080/"
        },
        "id": "szXLg_zbDJny",
        "outputId": "b6ae7ce2-0775-4875-9c73-ea5175c34948"
      },
      "execution_count": null,
      "outputs": [
        {
          "output_type": "execute_result",
          "data": {
            "text/plain": [
              "AdaBoostClassifier(base_estimator=DecisionTreeClassifier(criterion='entropy'),\n",
              "                   n_estimators=200)"
            ]
          },
          "metadata": {},
          "execution_count": 34
        }
      ]
    },
    {
      "cell_type": "code",
      "source": [
        "#spam_test_target_predict=clf.predict(spam_test_data)\n",
        "spam_test_target_predict =eclf.predict(spam_test_data)\n",
        "confusion_matrix(spam_test_target,spam_test_target_predict)\n",
        "#classification_report(spam_test_target,spam_test_target_predict)"
      ],
      "metadata": {
        "colab": {
          "base_uri": "https://localhost:8080/"
        },
        "id": "vi4qxDauDJqg",
        "outputId": "57669a1f-58c1-456d-c315-ecdeda06d987"
      },
      "execution_count": null,
      "outputs": [
        {
          "output_type": "execute_result",
          "data": {
            "text/plain": [
              "array([[1029,   89],\n",
              "       [  41,  682]])"
            ]
          },
          "metadata": {},
          "execution_count": 35
        }
      ]
    },
    {
      "cell_type": "code",
      "source": [
        "accuracy_score(spam_test_target,spam_test_target_predict)"
      ],
      "metadata": {
        "colab": {
          "base_uri": "https://localhost:8080/"
        },
        "id": "Kmo2ylmIDJtX",
        "outputId": "18988beb-3bd9-42bc-a7df-e3c858181d6a"
      },
      "execution_count": null,
      "outputs": [
        {
          "output_type": "execute_result",
          "data": {
            "text/plain": [
              "0.9293862031504617"
            ]
          },
          "metadata": {},
          "execution_count": 36
        }
      ]
    },
    {
      "cell_type": "code",
      "source": [],
      "metadata": {
        "id": "zvo2MUdkDJwX"
      },
      "execution_count": null,
      "outputs": []
    },
    {
      "cell_type": "code",
      "source": [],
      "metadata": {
        "id": "xSMvBIJiDJzW"
      },
      "execution_count": null,
      "outputs": []
    },
    {
      "cell_type": "code",
      "source": [
        "#70%-30%\n",
        "spam_training_set, spam_test_set = train_test_split(spam_dataset_dataframe, test_size=0.3,random_state=1000)\n",
        "spam_dataset_dataframe.keys()"
      ],
      "metadata": {
        "colab": {
          "base_uri": "https://localhost:8080/"
        },
        "id": "VFWS2xiZ06Zr",
        "outputId": "9c5e0d99-d93b-432a-c003-27f13acd75b6"
      },
      "execution_count": null,
      "outputs": [
        {
          "output_type": "execute_result",
          "data": {
            "text/plain": [
              "Index(['make', 'address', 'all', '3d', 'our', 'over', 'remove', 'internet',\n",
              "       'order', 'mail', 'receive', 'will', 'people', 'report', 'addresses',\n",
              "       'free', 'business', 'email', 'you', 'credit', 'your', 'font', '0',\n",
              "       'money', 'hp', 'hpl', 'george', '650', 'lab', 'labs', 'telnet', '857',\n",
              "       'data', '415', '85', 'technology', '1999', 'parts', 'pm', 'direct',\n",
              "       'cs', 'meeting', 'original', 'project', 're', 'edu', 'table',\n",
              "       'conference', 'semicol', 'paren', 'bracket', 'bang', 'dollar', 'pound',\n",
              "       'cap_avg', 'cap_long', 'cap_total', 'Class'],\n",
              "      dtype='object')"
            ]
          },
          "metadata": {},
          "execution_count": 54
        }
      ]
    },
    {
      "cell_type": "code",
      "source": [
        "spam_training_data, spam_training_target = spam_training_set[[\"make\", \"address\", \"all\", \"3d\", \"our\", \"over\", \"remove\", \n",
        "    \"internet\", \"order\", \"mail\", \"receive\", \"will\", \"people\", \"report\", \"addresses\", \n",
        "    \"free\", \"business\", \"email\", \"you\", \"credit\", \"your\", \"font\", \"0\", \"money\", \n",
        "    \"hp\", \"hpl\", \"george\", \"650\", \"lab\", \"labs\", \"telnet\", \"857\", \"data\", \"415\", \n",
        "    \"85\", \"technology\", \"1999\", \"parts\", \"pm\", \"direct\", \"cs\", \"meeting\", \"original\", \n",
        "    \"project\", \"re\", \"edu\", \"table\", \"conference\", \"semicol\", \"paren\", \"bracket\", \"bang\", \"dollar\", \n",
        "    \"pound\", \"cap_avg\", \"cap_long\", \"cap_total\"]], spam_training_set['Class']\n",
        "spam_test_data, spam_test_target = spam_test_set[[\"make\", \"address\", \"all\", \"3d\", \"our\", \"over\", \"remove\", \n",
        "    \"internet\", \"order\", \"mail\", \"receive\", \"will\", \"people\", \"report\", \"addresses\", \n",
        "    \"free\", \"business\", \"email\", \"you\", \"credit\", \"your\", \"font\", \"0\", \"money\", \n",
        "    \"hp\", \"hpl\", \"george\", \"650\", \"lab\", \"labs\", \"telnet\", \"857\", \"data\", \"415\", \n",
        "    \"85\", \"technology\", \"1999\", \"parts\", \"pm\", \"direct\", \"cs\", \"meeting\", \"original\", \n",
        "    \"project\", \"re\", \"edu\", \"table\", \"conference\", \"semicol\", \"paren\", \"bracket\", \"bang\", \"dollar\", \n",
        "    \"pound\", \"cap_avg\", \"cap_long\", \"cap_total\"]], spam_test_set['Class']"
      ],
      "metadata": {
        "id": "Y1IqKOtMDL21"
      },
      "execution_count": null,
      "outputs": []
    },
    {
      "cell_type": "code",
      "source": [
        "# FUSED MODEL for 70%-30%\n",
        "\n",
        "from sklearn.ensemble import RandomForestClassifier\n",
        "from sklearn import tree\n",
        "from sklearn.tree import DecisionTreeClassifier\n",
        "from sklearn.naive_bayes import GaussianNB\n",
        "from sklearn.ensemble import AdaBoostClassifier, VotingClassifier\n",
        "from sklearn.linear_model import LogisticRegression\n",
        "from sklearn.neighbors import KNeighborsClassifier\n",
        "from sklearn.metrics import confusion_matrix\n",
        "from sklearn.metrics import classification_report\n",
        "from sklearn.metrics import accuracy_score\n",
        "#clf = RandomForestClassifier(n_estimators=100)\n",
        "#clf = DecisionTreeClassifier(criterion = \"entropy\")\n",
        "clf_dt = DecisionTreeClassifier(criterion = \"entropy\")\n",
        "#clf = KNeighborsClassifier(n_neighbors=7)\n",
        "#clf = AdaBoostClassifier(n_estimators = 200)\n",
        "#LRI = LogisticRegression()\n",
        "clf_lr = LogisticRegression()\n",
        "clf_gnb = GaussianNB()\n",
        "#clf = AdaBoostClassifier(n_estimators = 200,base_estimator=LRI)\n",
        "eclf = VotingClassifier(estimators = [('DT', clf_dt),('LR',clf_lr),('GNB',clf_gnb)], voting ='hard')\n",
        "#clf.fit(spam_training_data,spam_training_target)\n",
        "eclf.fit(spam_training_data,spam_training_target)"
      ],
      "metadata": {
        "colab": {
          "base_uri": "https://localhost:8080/"
        },
        "id": "X0nhdTZKDMMC",
        "outputId": "f8fab8db-c8ba-4268-fdb0-74fb8bb1382f"
      },
      "execution_count": null,
      "outputs": [
        {
          "output_type": "stream",
          "name": "stderr",
          "text": [
            "/usr/local/lib/python3.8/dist-packages/sklearn/linear_model/_logistic.py:814: ConvergenceWarning: lbfgs failed to converge (status=1):\n",
            "STOP: TOTAL NO. of ITERATIONS REACHED LIMIT.\n",
            "\n",
            "Increase the number of iterations (max_iter) or scale the data as shown in:\n",
            "    https://scikit-learn.org/stable/modules/preprocessing.html\n",
            "Please also refer to the documentation for alternative solver options:\n",
            "    https://scikit-learn.org/stable/modules/linear_model.html#logistic-regression\n",
            "  n_iter_i = _check_optimize_result(\n"
          ]
        },
        {
          "output_type": "execute_result",
          "data": {
            "text/plain": [
              "VotingClassifier(estimators=[('DT',\n",
              "                              DecisionTreeClassifier(criterion='entropy')),\n",
              "                             ('LR', LogisticRegression()),\n",
              "                             ('GNB', GaussianNB())])"
            ]
          },
          "metadata": {},
          "execution_count": 39
        }
      ]
    },
    {
      "cell_type": "code",
      "source": [
        "#spam_test_target_predict=clf.predict(spam_test_data)\n",
        "spam_test_target_predict =eclf.predict(spam_test_data)\n",
        "confusion_matrix(spam_test_target,spam_test_target_predict)\n",
        "#classification_report(spam_test_target,spam_test_target_predict)\n"
      ],
      "metadata": {
        "colab": {
          "base_uri": "https://localhost:8080/"
        },
        "id": "GfvIcGU0DMO8",
        "outputId": "8ceb19ed-a150-47dd-c19b-9e45dc719e80"
      },
      "execution_count": null,
      "outputs": [
        {
          "output_type": "execute_result",
          "data": {
            "text/plain": [
              "array([[766,  68],\n",
              "       [ 30, 517]])"
            ]
          },
          "metadata": {},
          "execution_count": 40
        }
      ]
    },
    {
      "cell_type": "code",
      "source": [
        "accuracy_score(spam_test_target,spam_test_target_predict)"
      ],
      "metadata": {
        "colab": {
          "base_uri": "https://localhost:8080/"
        },
        "id": "Ivg54rJtDMSN",
        "outputId": "a41f3ed2-3670-46ed-c9dc-d9592bef7bdb"
      },
      "execution_count": null,
      "outputs": [
        {
          "output_type": "execute_result",
          "data": {
            "text/plain": [
              "0.9290369297610427"
            ]
          },
          "metadata": {},
          "execution_count": 41
        }
      ]
    },
    {
      "cell_type": "code",
      "source": [
        "#Adaboost classifier using decisiontree as base_learner for 70%-30%\n",
        "\n",
        "from sklearn.ensemble import RandomForestClassifier\n",
        "from sklearn import tree\n",
        "from sklearn.tree import DecisionTreeClassifier\n",
        "from sklearn.naive_bayes import GaussianNB\n",
        "from sklearn.ensemble import AdaBoostClassifier, VotingClassifier\n",
        "from sklearn.linear_model import LogisticRegression\n",
        "from sklearn.neighbors import KNeighborsClassifier\n",
        "from sklearn.metrics import confusion_matrix\n",
        "from sklearn.metrics import classification_report\n",
        "from sklearn.metrics import accuracy_score\n",
        "#clf = RandomForestClassifier(n_estimators=100)\n",
        "clf = DecisionTreeClassifier(criterion = \"entropy\")\n",
        "#clf_dt = DecisionTreeClassifier(criterion = \"entropy\")\n",
        "#clf = KNeighborsClassifier(n_neighbors=7)\n",
        "#clf = AdaBoostClassifier(n_estimators = 200)\n",
        "#LRI = LogisticRegression()\n",
        "#clf_lr = LogisticRegression()\n",
        "#clf_gnb = GaussianNB()\n",
        "clf = AdaBoostClassifier(n_estimators = 200,base_estimator=clf)\n",
        "#eclf = VotingClassifier(estimators = [('DT', clf_dt),('LR',clf_lr),('GNB',clf_gnb)], voting ='hard')\n",
        "clf.fit(spam_training_data,spam_training_target)\n",
        "#eclf.fit(spam_training_data,spam_training_target)"
      ],
      "metadata": {
        "colab": {
          "base_uri": "https://localhost:8080/"
        },
        "id": "uvleI_XMDMVM",
        "outputId": "da7bb338-ee19-4515-8ff6-93283f186708"
      },
      "execution_count": null,
      "outputs": [
        {
          "output_type": "execute_result",
          "data": {
            "text/plain": [
              "AdaBoostClassifier(base_estimator=DecisionTreeClassifier(criterion='entropy'),\n",
              "                   n_estimators=200)"
            ]
          },
          "metadata": {},
          "execution_count": 42
        }
      ]
    },
    {
      "cell_type": "code",
      "source": [
        "#spam_test_target_predict=clf.predict(spam_test_data)\n",
        "spam_test_target_predict =eclf.predict(spam_test_data)\n",
        "confusion_matrix(spam_test_target,spam_test_target_predict)\n",
        "#classification_report(spam_test_target,spam_test_target_predict)\n",
        "\n"
      ],
      "metadata": {
        "colab": {
          "base_uri": "https://localhost:8080/"
        },
        "id": "zXN2c2N_DMXz",
        "outputId": "e5d2b9ee-4846-436e-e394-d6a7395025f1"
      },
      "execution_count": null,
      "outputs": [
        {
          "output_type": "execute_result",
          "data": {
            "text/plain": [
              "array([[766,  68],\n",
              "       [ 30, 517]])"
            ]
          },
          "metadata": {},
          "execution_count": 43
        }
      ]
    },
    {
      "cell_type": "code",
      "source": [
        "accuracy_score(spam_test_target,spam_test_target_predict)"
      ],
      "metadata": {
        "colab": {
          "base_uri": "https://localhost:8080/"
        },
        "id": "oGGR2REQDMar",
        "outputId": "a47982c2-05a1-4f50-dd64-b150a5246d82"
      },
      "execution_count": null,
      "outputs": [
        {
          "output_type": "execute_result",
          "data": {
            "text/plain": [
              "0.9290369297610427"
            ]
          },
          "metadata": {},
          "execution_count": 44
        }
      ]
    },
    {
      "cell_type": "code",
      "source": [],
      "metadata": {
        "id": "sOaBQsL-DMdi"
      },
      "execution_count": null,
      "outputs": []
    },
    {
      "cell_type": "code",
      "source": [],
      "metadata": {
        "id": "xPhJgBcNDMga"
      },
      "execution_count": null,
      "outputs": []
    },
    {
      "cell_type": "code",
      "source": [
        "#80%-20%\n",
        "spam_training_set, spam_test_set = train_test_split(spam_dataset_dataframe, test_size=0.2,random_state=1000)\n",
        "spam_dataset_dataframe.keys()\n",
        "\n",
        "\n",
        "\n",
        "\n",
        "\n",
        "\n",
        "\n"
      ],
      "metadata": {
        "colab": {
          "base_uri": "https://localhost:8080/"
        },
        "id": "gUrc_UKE06iv",
        "outputId": "25b64fde-0edd-43cd-e0ee-c76ac3bdae83"
      },
      "execution_count": null,
      "outputs": [
        {
          "output_type": "execute_result",
          "data": {
            "text/plain": [
              "Index(['make', 'address', 'all', '3d', 'our', 'over', 'remove', 'internet',\n",
              "       'order', 'mail', 'receive', 'will', 'people', 'report', 'addresses',\n",
              "       'free', 'business', 'email', 'you', 'credit', 'your', 'font', '0',\n",
              "       'money', 'hp', 'hpl', 'george', '650', 'lab', 'labs', 'telnet', '857',\n",
              "       'data', '415', '85', 'technology', '1999', 'parts', 'pm', 'direct',\n",
              "       'cs', 'meeting', 'original', 'project', 're', 'edu', 'table',\n",
              "       'conference', 'semicol', 'paren', 'bracket', 'bang', 'dollar', 'pound',\n",
              "       'cap_avg', 'cap_long', 'cap_total', 'Class'],\n",
              "      dtype='object')"
            ]
          },
          "metadata": {},
          "execution_count": 45
        }
      ]
    },
    {
      "cell_type": "code",
      "source": [
        "spam_training_data, spam_training_target = spam_training_set[[\"make\", \"address\", \"all\", \"3d\", \"our\", \"over\", \"remove\", \n",
        "    \"internet\", \"order\", \"mail\", \"receive\", \"will\", \"people\", \"report\", \"addresses\", \n",
        "    \"free\", \"business\", \"email\", \"you\", \"credit\", \"your\", \"font\", \"0\", \"money\", \n",
        "    \"hp\", \"hpl\", \"george\", \"650\", \"lab\", \"labs\", \"telnet\", \"857\", \"data\", \"415\", \n",
        "    \"85\", \"technology\", \"1999\", \"parts\", \"pm\", \"direct\", \"cs\", \"meeting\", \"original\", \n",
        "    \"project\", \"re\", \"edu\", \"table\", \"conference\", \"semicol\", \"paren\", \"bracket\", \"bang\", \"dollar\", \n",
        "    \"pound\", \"cap_avg\", \"cap_long\", \"cap_total\"]], spam_training_set['Class']\n",
        "spam_test_data, spam_test_target = spam_test_set[[\"make\", \"address\", \"all\", \"3d\", \"our\", \"over\", \"remove\", \n",
        "    \"internet\", \"order\", \"mail\", \"receive\", \"will\", \"people\", \"report\", \"addresses\", \n",
        "    \"free\", \"business\", \"email\", \"you\", \"credit\", \"your\", \"font\", \"0\", \"money\", \n",
        "    \"hp\", \"hpl\", \"george\", \"650\", \"lab\", \"labs\", \"telnet\", \"857\", \"data\", \"415\", \n",
        "    \"85\", \"technology\", \"1999\", \"parts\", \"pm\", \"direct\", \"cs\", \"meeting\", \"original\", \n",
        "    \"project\", \"re\", \"edu\", \"table\", \"conference\", \"semicol\", \"paren\", \"bracket\", \"bang\", \"dollar\", \n",
        "    \"pound\", \"cap_avg\", \"cap_long\", \"cap_total\"]], spam_test_set['Class']"
      ],
      "metadata": {
        "id": "PK84fi36DNku"
      },
      "execution_count": null,
      "outputs": []
    },
    {
      "cell_type": "code",
      "source": [
        "\n",
        "# FUSED MODEL for #80%-20%\n",
        "\n",
        "from sklearn.ensemble import RandomForestClassifier\n",
        "from sklearn import tree\n",
        "from sklearn.tree import DecisionTreeClassifier\n",
        "from sklearn.naive_bayes import GaussianNB\n",
        "from sklearn.ensemble import AdaBoostClassifier, VotingClassifier\n",
        "from sklearn.linear_model import LogisticRegression\n",
        "from sklearn.neighbors import KNeighborsClassifier\n",
        "from sklearn.metrics import confusion_matrix\n",
        "from sklearn.metrics import classification_report\n",
        "from sklearn.metrics import accuracy_score\n",
        "#clf = RandomForestClassifier(n_estimators=100)\n",
        "#clf = DecisionTreeClassifier(criterion = \"entropy\")\n",
        "clf_dt = DecisionTreeClassifier(criterion = \"entropy\")\n",
        "#clf = KNeighborsClassifier(n_neighbors=7)\n",
        "#clf = AdaBoostClassifier(n_estimators = 200)\n",
        "#LRI = LogisticRegression()\n",
        "clf_lr = LogisticRegression()\n",
        "clf_gnb = GaussianNB()\n",
        "#clf = AdaBoostClassifier(n_estimators = 200,base_estimator=LRI)\n",
        "eclf = VotingClassifier(estimators = [('DT', clf_dt),('LR',clf_lr),('GNB',clf_gnb)], voting ='hard')\n",
        "#clf.fit(spam_training_data,spam_training_target)\n",
        "eclf.fit(spam_training_data,spam_training_target)"
      ],
      "metadata": {
        "colab": {
          "base_uri": "https://localhost:8080/"
        },
        "id": "QXw3Rs80DNnw",
        "outputId": "9376483c-aaaa-48b0-d847-726af4055e21"
      },
      "execution_count": null,
      "outputs": [
        {
          "output_type": "stream",
          "name": "stderr",
          "text": [
            "/usr/local/lib/python3.8/dist-packages/sklearn/linear_model/_logistic.py:814: ConvergenceWarning: lbfgs failed to converge (status=1):\n",
            "STOP: TOTAL NO. of ITERATIONS REACHED LIMIT.\n",
            "\n",
            "Increase the number of iterations (max_iter) or scale the data as shown in:\n",
            "    https://scikit-learn.org/stable/modules/preprocessing.html\n",
            "Please also refer to the documentation for alternative solver options:\n",
            "    https://scikit-learn.org/stable/modules/linear_model.html#logistic-regression\n",
            "  n_iter_i = _check_optimize_result(\n"
          ]
        },
        {
          "output_type": "execute_result",
          "data": {
            "text/plain": [
              "VotingClassifier(estimators=[('DT',\n",
              "                              DecisionTreeClassifier(criterion='entropy')),\n",
              "                             ('LR', LogisticRegression()),\n",
              "                             ('GNB', GaussianNB())])"
            ]
          },
          "metadata": {},
          "execution_count": 47
        }
      ]
    },
    {
      "cell_type": "code",
      "source": [
        "#spam_test_target_predict=clf.predict(spam_test_data)\n",
        "spam_test_target_predict =eclf.predict(spam_test_data)\n",
        "confusion_matrix(spam_test_target,spam_test_target_predict)\n",
        "#classification_report(spam_test_target,spam_test_target_predict)\n",
        "\n"
      ],
      "metadata": {
        "colab": {
          "base_uri": "https://localhost:8080/"
        },
        "id": "4X0O3hlnDNqn",
        "outputId": "96af776c-c3f9-4748-9019-1b9868755b24"
      },
      "execution_count": null,
      "outputs": [
        {
          "output_type": "execute_result",
          "data": {
            "text/plain": [
              "array([[520,  43],\n",
              "       [ 23, 335]])"
            ]
          },
          "metadata": {},
          "execution_count": 48
        }
      ]
    },
    {
      "cell_type": "code",
      "source": [
        "accuracy_score(spam_test_target,spam_test_target_predict)"
      ],
      "metadata": {
        "colab": {
          "base_uri": "https://localhost:8080/"
        },
        "id": "z3Kj7GiRDNtO",
        "outputId": "51667a10-7c76-4f1f-f2af-75efec80c3ff"
      },
      "execution_count": null,
      "outputs": [
        {
          "output_type": "execute_result",
          "data": {
            "text/plain": [
              "0.9283387622149837"
            ]
          },
          "metadata": {},
          "execution_count": 49
        }
      ]
    },
    {
      "cell_type": "code",
      "source": [
        "#Adaboost classifier using decisiontree as base_learner for #80%-20%\n",
        "\n",
        "from sklearn.ensemble import RandomForestClassifier\n",
        "from sklearn import tree\n",
        "from sklearn.tree import DecisionTreeClassifier\n",
        "from sklearn.naive_bayes import GaussianNB\n",
        "from sklearn.ensemble import AdaBoostClassifier, VotingClassifier\n",
        "from sklearn.linear_model import LogisticRegression\n",
        "from sklearn.neighbors import KNeighborsClassifier\n",
        "from sklearn.metrics import confusion_matrix\n",
        "from sklearn.metrics import classification_report\n",
        "from sklearn.metrics import accuracy_score\n",
        "#clf = RandomForestClassifier(n_estimators=100)\n",
        "clf = DecisionTreeClassifier(criterion = \"entropy\")\n",
        "#clf_dt = DecisionTreeClassifier(criterion = \"entropy\")\n",
        "#clf = KNeighborsClassifier(n_neighbors=7)\n",
        "#clf = AdaBoostClassifier(n_estimators = 200)\n",
        "#LRI = LogisticRegression()\n",
        "#clf_lr = LogisticRegression()\n",
        "#clf_gnb = GaussianNB()\n",
        "clf = AdaBoostClassifier(n_estimators = 200,base_estimator=clf)\n",
        "#eclf = VotingClassifier(estimators = [('DT', clf_dt),('LR',clf_lr),('GNB',clf_gnb)], voting ='hard')\n",
        "clf.fit(spam_training_data,spam_training_target)\n",
        "#eclf.fit(spam_training_data,spam_training_target)"
      ],
      "metadata": {
        "colab": {
          "base_uri": "https://localhost:8080/"
        },
        "id": "-s7RIKekDN5B",
        "outputId": "5afe2cf7-4b13-40d3-8edb-e6ce57223cd4"
      },
      "execution_count": null,
      "outputs": [
        {
          "output_type": "execute_result",
          "data": {
            "text/plain": [
              "AdaBoostClassifier(base_estimator=DecisionTreeClassifier(criterion='entropy'),\n",
              "                   n_estimators=200)"
            ]
          },
          "metadata": {},
          "execution_count": 50
        }
      ]
    },
    {
      "cell_type": "code",
      "source": [
        "#spam_test_target_predict=clf.predict(spam_test_data)\n",
        "spam_test_target_predict =eclf.predict(spam_test_data)\n",
        "confusion_matrix(spam_test_target,spam_test_target_predict)\n",
        "#classification_report(spam_test_target,spam_test_target_predict)\n"
      ],
      "metadata": {
        "colab": {
          "base_uri": "https://localhost:8080/"
        },
        "id": "p-rYSeR3DN8F",
        "outputId": "ef4ea312-e1c6-49fd-931d-cbfcf880c64b"
      },
      "execution_count": null,
      "outputs": [
        {
          "output_type": "execute_result",
          "data": {
            "text/plain": [
              "array([[520,  43],\n",
              "       [ 23, 335]])"
            ]
          },
          "metadata": {},
          "execution_count": 51
        }
      ]
    },
    {
      "cell_type": "code",
      "source": [
        "\n",
        "accuracy_score(spam_test_target,spam_test_target_predict)"
      ],
      "metadata": {
        "colab": {
          "base_uri": "https://localhost:8080/"
        },
        "id": "XPS5zrZ1DN-7",
        "outputId": "e509ff8e-de31-49c2-8a0b-f80e4f19899c"
      },
      "execution_count": null,
      "outputs": [
        {
          "output_type": "execute_result",
          "data": {
            "text/plain": [
              "0.9283387622149837"
            ]
          },
          "metadata": {},
          "execution_count": 52
        }
      ]
    },
    {
      "cell_type": "code",
      "source": [],
      "metadata": {
        "id": "x_aoDoywDOCE"
      },
      "execution_count": null,
      "outputs": []
    },
    {
      "cell_type": "code",
      "source": [],
      "metadata": {
        "id": "Q3q7qLs-DOFl"
      },
      "execution_count": null,
      "outputs": []
    },
    {
      "cell_type": "code",
      "source": [],
      "metadata": {
        "id": "ZzNy4YdrDOLL"
      },
      "execution_count": null,
      "outputs": []
    }
  ]
}