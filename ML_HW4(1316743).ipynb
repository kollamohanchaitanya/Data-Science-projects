{
  "nbformat": 4,
  "nbformat_minor": 0,
  "metadata": {
    "colab": {
      "provenance": [],
      "authorship_tag": "ABX9TyPh7kZurjSrXL8zaE0/0Ai5",
      "include_colab_link": true
    },
    "kernelspec": {
      "name": "python3",
      "display_name": "Python 3"
    },
    "language_info": {
      "name": "python"
    }
  },
  "cells": [
    {
      "cell_type": "markdown",
      "metadata": {
        "id": "view-in-github",
        "colab_type": "text"
      },
      "source": [
        "<a href=\"https://colab.research.google.com/github/kollamohanchaitanya/Data-Science-projects/blob/main/ML_HW4(1316743).ipynb\" target=\"_parent\"><img src=\"https://colab.research.google.com/assets/colab-badge.svg\" alt=\"Open In Colab\"/></a>"
      ]
    },
    {
      "cell_type": "code",
      "execution_count": null,
      "metadata": {
        "colab": {
          "base_uri": "https://localhost:8080/"
        },
        "id": "0SIrIWZlP6q8",
        "outputId": "9a4743c5-4062-447c-b822-4075936b1efb"
      },
      "outputs": [
        {
          "output_type": "stream",
          "name": "stdout",
          "text": [
            "Downloading data from https://storage.googleapis.com/tensorflow/tf-keras-datasets/mnist.npz\n",
            "11490434/11490434 [==============================] - 0s 0us/step\n"
          ]
        }
      ],
      "source": [
        "import pandas as pd\n",
        "import numpy as np\n",
        "import matplotlib.pyplot as plt\n",
        "import keras\n",
        "from keras.datasets import mnist\n",
        "\n",
        "np.random.seed(2023)\n",
        "\n",
        "# load data\n",
        "(x_train, y_train), (x_test, y_test) = mnist.load_data()\n"
      ]
    },
    {
      "cell_type": "markdown",
      "source": [
        "Now let's generate the first 5 images of x_train using plt.imshow:"
      ],
      "metadata": {
        "id": "mkptnDUCSVZc"
      }
    },
    {
      "cell_type": "code",
      "source": [
        "# display the first 5 images of x_train\n",
        "fig, ax = plt.subplots(1, 5, figsize=(15,15))\n",
        "for i in range(5):\n",
        "    ax[i].imshow(x_train[i])\n",
        "plt.show()\n"
      ],
      "metadata": {
        "colab": {
          "base_uri": "https://localhost:8080/",
          "height": 263
        },
        "id": "61sUsYK4P_ve",
        "outputId": "25d90aff-7f35-46b7-9cb7-2b0b29ff5260"
      },
      "execution_count": null,
      "outputs": [
        {
          "output_type": "display_data",
          "data": {
            "text/plain": [
              "<Figure size 1500x1500 with 5 Axes>"
            ],
            "image/png": "[encoded data removed]"
          },
          "metadata": {}
        }
      ]
    },
    {
      "cell_type": "markdown",
      "source": [
        "flatten the inputs from each row being 28 by 28 to 784, and convert the datatype to float:"
      ],
      "metadata": {
        "id": "T6RH_df1SadF"
      }
    },
    {
      "cell_type": "code",
      "source": [
        "# flatten input\n",
        "x_train = x_train.reshape((60000, 784))\n",
        "x_test = x_test.reshape((10000, 784))\n",
        "\n",
        "# convert datatype to float\n",
        "x_train = x_train.astype('float32')\n",
        "x_test = x_test.astype('float32')\n"
      ],
      "metadata": {
        "id": "S2VdU3nQP_y5"
      },
      "execution_count": null,
      "outputs": []
    },
    {
      "cell_type": "markdown",
      "source": [
        "normalize the ranges of values from 0-255 to a value between 0-1 by dividing the entire dataset by 255 except for the labels:"
      ],
      "metadata": {
        "id": "uAKIESTASgEZ"
      }
    },
    {
      "cell_type": "code",
      "source": [
        "# normalize inputs\n",
        "x_train = x_train / 255.0\n",
        "x_test = x_test / 255.0\n"
      ],
      "metadata": {
        "id": "2Py-kwrbP_3E"
      },
      "execution_count": null,
      "outputs": []
    },
    {
      "cell_type": "markdown",
      "source": [
        "Finally, we need to one-hot encode the labels:"
      ],
      "metadata": {
        "id": "7HxVMaxhSnj-"
      }
    },
    {
      "cell_type": "code",
      "source": [
        "# one-hot encode outputs\n",
        "y_train = keras.utils.to_categorical(y_train)\n",
        "y_test = keras.utils.to_categorical(y_test)\n"
      ],
      "metadata": {
        "id": "JDdg7SGPP_5q"
      },
      "execution_count": null,
      "outputs": []
    },
    {
      "cell_type": "code",
      "source": [
        "from keras.models import Sequential\n",
        "from keras.layers import Dense\n",
        "\n",
        "# create model\n",
        "model = Sequential()\n",
        "model.add(Dense(256, input_dim=784, activation='relu'))\n",
        "model.add(Dense(128, activation='relu'))\n",
        "model.add(Dense(10, activation='softmax'))\n",
        "\n",
        "# compile model\n",
        "model.compile(loss='categorical_crossentropy', optimizer='adam', metrics=['accuracy'])\n",
        "\n",
        "# train model\n",
        "history = model.fit(x_train, y_train, validation_data=(x_test, y_test), epochs=10, batch_size=200)\n"
      ],
      "metadata": {
        "colab": {
          "base_uri": "https://localhost:8080/"
        },
        "id": "_NSz-6ivQJlj",
        "outputId": "0824b54b-48e6-49af-8817-315ec4ef1667"
      },
      "execution_count": null,
      "outputs": [
        {
          "output_type": "stream",
          "name": "stdout",
          "text": [
            "Epoch 1/10\n",
            "300/300 [==============================] - 4s 8ms/step - loss: 0.3075 - accuracy: 0.9132 - val_loss: 0.1313 - val_accuracy: 0.9616\n",
            "Epoch 2/10\n",
            "300/300 [==============================] - 2s 8ms/step - loss: 0.1149 - accuracy: 0.9660 - val_loss: 0.1001 - val_accuracy: 0.9695\n",
            "Epoch 3/10\n",
            "300/300 [==============================] - 4s 13ms/step - loss: 0.0759 - accuracy: 0.9772 - val_loss: 0.0904 - val_accuracy: 0.9715\n",
            "Epoch 4/10\n",
            "300/300 [==============================] - 4s 12ms/step - loss: 0.0544 - accuracy: 0.9838 - val_loss: 0.0733 - val_accuracy: 0.9767\n",
            "Epoch 5/10\n",
            "300/300 [==============================] - 4s 12ms/step - loss: 0.0397 - accuracy: 0.9879 - val_loss: 0.0736 - val_accuracy: 0.9771\n",
            "Epoch 6/10\n",
            "300/300 [==============================] - 3s 10ms/step - loss: 0.0331 - accuracy: 0.9898 - val_loss: 0.0738 - val_accuracy: 0.9781\n",
            "Epoch 7/10\n",
            "300/300 [==============================] - 2s 8ms/step - loss: 0.0235 - accuracy: 0.9931 - val_loss: 0.0658 - val_accuracy: 0.9818\n",
            "Epoch 8/10\n",
            "300/300 [==============================] - 2s 7ms/step - loss: 0.0186 - accuracy: 0.9945 - val_loss: 0.0771 - val_accuracy: 0.9766\n",
            "Epoch 9/10\n",
            "300/300 [==============================] - 2s 7ms/step - loss: 0.0145 - accuracy: 0.9956 - val_loss: 0.0763 - val_accuracy: 0.9778\n",
            "Epoch 10/10\n",
            "300/300 [==============================] - 2s 7ms/step - loss: 0.0129 - accuracy: 0.9957 - val_loss: 0.0773 - val_accuracy: 0.9792\n"
          ]
        }
      ]
    },
    {
      "cell_type": "markdown",
      "source": [
        "After training, we can evaluate the model's accuracy and generate the confusion matrix:"
      ],
      "metadata": {
        "id": "dWArOSfxSy0i"
      }
    },
    {
      "cell_type": "code",
      "source": [
        "# evaluate model\n",
        "_, accuracy = model.evaluate(x_test, y_test)\n",
        "print('Accuracy: %.2f' % (accuracy*100))\n",
        "\n",
        "# generate confusion matrix\n",
        "from sklearn.metrics import confusion_matrix\n",
        "\n",
        "y_pred = model.predict(x_test)\n",
        "y_pred = np.argmax(y_pred, axis=1)\n",
        "y_test = np.argmax(y_test, axis=1)\n",
        "\n",
        "cm = confusion_matrix(y_test, y_pred)\n",
        "print(cm)\n"
      ],
      "metadata": {
        "colab": {
          "base_uri": "https://localhost:8080/"
        },
        "id": "tUasiQ0aQJoy",
        "outputId": "82bb3c42-16d6-4944-b1a0-ab419c102d3d"
      },
      "execution_count": null,
      "outputs": [
        {
          "output_type": "stream",
          "name": "stdout",
          "text": [
            "313/313 [==============================] - 1s 2ms/step - loss: 0.0773 - accuracy: 0.9792\n",
            "Accuracy: 97.92\n",
            "313/313 [==============================] - 0s 1ms/step\n",
            "[[ 973    0    0    2    1    1    1    0    1    1]\n",
            " [   0 1125    2    1    0    0    2    0    4    1]\n",
            " [   8    1  993    6    6    0    2    8    8    0]\n",
            " [   0    0    1  991    0    1    0    3    1   13]\n",
            " [   1    0    2    1  968    0    2    3    1    4]\n",
            " [   3    0    0   16    2  861    1    0    4    5]\n",
            " [   1    3    0    1    5    5  939    0    4    0]\n",
            " [   1    6    5    1    0    0    0 1003    4    8]\n",
            " [   3    0    2    2    4    0    1    2  954    6]\n",
            " [   3    2    0    1    8    2    0    5    3  985]]\n"
          ]
        }
      ]
    }
  ]
}